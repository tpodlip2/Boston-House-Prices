{
 "cells": [
  {
   "cell_type": "markdown",
   "metadata": {},
   "source": [
    "1.  Pull the Boston Housing notebook I've created for this assignment.\n",
    "\n",
    "2.  Impliment scikit learn's r2 and mse methods to measure the performance of my linear regressor.\n",
    "\n",
    "3.  Impliment either sklearn.linear_model.Ridge or sklearn.linear_model.Lasso.\n",
    "\n",
    "4.  Optimize (by reviewing the r2 and mse scores and adjusting the regularization paramater) the regression model you pick.\n",
    "\n",
    "5.  Turn in the github link to your work "
   ]
  },
  {
   "cell_type": "code",
   "execution_count": 100,
   "metadata": {
    "collapsed": true
   },
   "outputs": [],
   "source": [
    "from sklearn import datasets\n",
    "import pandas as pd\n",
    "from sklearn.preprocessing import StandardScaler\n",
    "from sklearn.cross_validation import train_test_split\n",
    "from sklearn.metrics import mean_squared_error\n",
    "from sklearn.metrics import r2_score\n",
    "from sklearn.linear_model import LinearRegression\n",
    "from sklearn.linear_model import Ridge\n",
    "from sklearn.linear_model import Lasso\n",
    "import numpy as np\n",
    "import math"
   ]
  },
  {
   "cell_type": "code",
   "execution_count": 4,
   "metadata": {
    "collapsed": false
   },
   "outputs": [
    {
     "name": "stdout",
     "output_type": "stream",
     "text": [
      "Boston House Prices dataset\n",
      "\n",
      "Notes\n",
      "------\n",
      "Data Set Characteristics:  \n",
      "\n",
      "    :Number of Instances: 506 \n",
      "\n",
      "    :Number of Attributes: 13 numeric/categorical predictive\n",
      "    \n",
      "    :Median Value (attribute 14) is usually the target\n",
      "\n",
      "    :Attribute Information (in order):\n",
      "        - CRIM     per capita crime rate by town\n",
      "        - ZN       proportion of residential land zoned for lots over 25,000 sq.ft.\n",
      "        - INDUS    proportion of non-retail business acres per town\n",
      "        - CHAS     Charles River dummy variable (= 1 if tract bounds river; 0 otherwise)\n",
      "        - NOX      nitric oxides concentration (parts per 10 million)\n",
      "        - RM       average number of rooms per dwelling\n",
      "        - AGE      proportion of owner-occupied units built prior to 1940\n",
      "        - DIS      weighted distances to five Boston employment centres\n",
      "        - RAD      index of accessibility to radial highways\n",
      "        - TAX      full-value property-tax rate per $10,000\n",
      "        - PTRATIO  pupil-teacher ratio by town\n",
      "        - B        1000(Bk - 0.63)^2 where Bk is the proportion of blacks by town\n",
      "        - LSTAT    % lower status of the population\n",
      "        - MEDV     Median value of owner-occupied homes in $1000's\n",
      "\n",
      "    :Missing Attribute Values: None\n",
      "\n",
      "    :Creator: Harrison, D. and Rubinfeld, D.L.\n",
      "\n",
      "This is a copy of UCI ML housing dataset.\n",
      "http://archive.ics.uci.edu/ml/datasets/Housing\n",
      "\n",
      "\n",
      "This dataset was taken from the StatLib library which is maintained at Carnegie Mellon University.\n",
      "\n",
      "The Boston house-price data of Harrison, D. and Rubinfeld, D.L. 'Hedonic\n",
      "prices and the demand for clean air', J. Environ. Economics & Management,\n",
      "vol.5, 81-102, 1978.   Used in Belsley, Kuh & Welsch, 'Regression diagnostics\n",
      "...', Wiley, 1980.   N.B. Various transformations are used in the table on\n",
      "pages 244-261 of the latter.\n",
      "\n",
      "The Boston house-price data has been used in many machine learning papers that address regression\n",
      "problems.   \n",
      "     \n",
      "**References**\n",
      "\n",
      "   - Belsley, Kuh & Welsch, 'Regression diagnostics: Identifying Influential Data and Sources of Collinearity', Wiley, 1980. 244-261.\n",
      "   - Quinlan,R. (1993). Combining Instance-Based and Model-Based Learning. In Proceedings on the Tenth International Conference of Machine Learning, 236-243, University of Massachusetts, Amherst. Morgan Kaufmann.\n",
      "   - many more! (see http://archive.ics.uci.edu/ml/datasets/Housing)\n",
      "\n"
     ]
    }
   ],
   "source": [
    "bean = datasets.load_boston()\n",
    "print bean.DESCR"
   ]
  },
  {
   "cell_type": "code",
   "execution_count": 5,
   "metadata": {
    "collapsed": true
   },
   "outputs": [],
   "source": [
    "def load_boston():\n",
    "    scaler = StandardScaler()\n",
    "    boston = datasets.load_boston()\n",
    "    X=boston.data\n",
    "    y=boston.target\n",
    "    X = scaler.fit_transform(X)\n",
    "    return train_test_split(X,y)"
   ]
  },
  {
   "cell_type": "markdown",
   "metadata": {},
   "source": [
    "The load_boston function takes the boston dataset and separates the data in two ways.  The first is that load_boston()has both data and target attributes making creating X and y easy. Note that a the scaler is already built into sklearn and that the X data set is scaled for us with fit_transform which fits the transformer to X.  Then the train_test_split function is called to return X_train, X_test, y_train, and y_test (in that order). Now we have both, a set of data for our LR to learn from and data to test it against. "
   ]
  },
  {
   "cell_type": "code",
   "execution_count": 20,
   "metadata": {
    "collapsed": false
   },
   "outputs": [],
   "source": [
    "X_train, X_test, y_train, y_test = load_boston()"
   ]
  },
  {
   "cell_type": "markdown",
   "metadata": {},
   "source": [
    "The train_test_split() randomizes the training and testing sets.  When running the load_boston() and running the linear regression and measuring performance, expect discrepancies between runs."
   ]
  },
  {
   "cell_type": "code",
   "execution_count": 7,
   "metadata": {
    "collapsed": false
   },
   "outputs": [
    {
     "data": {
      "text/plain": [
       "(379L, 13L)"
      ]
     },
     "execution_count": 7,
     "metadata": {},
     "output_type": "execute_result"
    }
   ],
   "source": [
    "X_train.shape"
   ]
  },
  {
   "cell_type": "code",
   "execution_count": 11,
   "metadata": {
    "collapsed": false
   },
   "outputs": [
    {
     "data": {
      "text/plain": [
       "(127L, 13L)"
      ]
     },
     "execution_count": 11,
     "metadata": {},
     "output_type": "execute_result"
    }
   ],
   "source": [
    "X_test.shape"
   ]
  },
  {
   "cell_type": "code",
   "execution_count": 27,
   "metadata": {
    "collapsed": false
   },
   "outputs": [
    {
     "data": {
      "text/plain": [
       "(379L,)"
      ]
     },
     "execution_count": 27,
     "metadata": {},
     "output_type": "execute_result"
    }
   ],
   "source": [
    "y_train.shape"
   ]
  },
  {
   "cell_type": "code",
   "execution_count": 28,
   "metadata": {
    "collapsed": false
   },
   "outputs": [
    {
     "data": {
      "text/plain": [
       "(127L,)"
      ]
     },
     "execution_count": 28,
     "metadata": {},
     "output_type": "execute_result"
    }
   ],
   "source": [
    "y_test.shape"
   ]
  },
  {
   "cell_type": "code",
   "execution_count": 21,
   "metadata": {
    "collapsed": false
   },
   "outputs": [
    {
     "data": {
      "text/plain": [
       "LinearRegression(copy_X=True, fit_intercept=True, n_jobs=1, normalize=False)"
      ]
     },
     "execution_count": 21,
     "metadata": {},
     "output_type": "execute_result"
    }
   ],
   "source": [
    "clf = LinearRegression()\n",
    "clf.fit(X_train, y_train)"
   ]
  },
  {
   "cell_type": "markdown",
   "metadata": {},
   "source": [
    "LinearRegression() is an 'ordinary least squares linear regression'. "
   ]
  },
  {
   "cell_type": "code",
   "execution_count": 22,
   "metadata": {
    "collapsed": false
   },
   "outputs": [
    {
     "data": {
      "text/plain": [
       "[(31.199999999999999, 28.773818371197478),\n",
       " (19.600000000000001, 19.68296604273441),\n",
       " (37.299999999999997, 34.311345425128337),\n",
       " (50.0, 33.811933294514034),\n",
       " (30.5, 30.46752284747928),\n",
       " (23.100000000000001, 9.1089541487993646),\n",
       " (15.6, 15.720272076712888),\n",
       " (18.399999999999999, 18.38605556393054),\n",
       " (33.299999999999997, 36.407232083453088),\n",
       " (28.699999999999999, 25.270560926685093),\n",
       " (10.5, 5.540196112020066),\n",
       " (17.399999999999999, 17.353026029316233),\n",
       " (20.5, 20.492023136606811),\n",
       " (20.0, 22.220409621931612),\n",
       " (23.600000000000001, 31.002771091945302),\n",
       " (50.0, 41.196147455822675),\n",
       " (27.5, 24.910665603917938),\n",
       " (18.600000000000001, 16.773375723172876),\n",
       " (23.300000000000001, 26.054210518275404),\n",
       " (8.3000000000000007, 12.477265456411889),\n",
       " (16.800000000000001, 20.63164894538988),\n",
       " (12.5, 19.103410806247496),\n",
       " (22.800000000000001, 28.689359760453684),\n",
       " (22.5, 28.903889758616224),\n",
       " (20.600000000000001, 20.670980855491841),\n",
       " (18.100000000000001, 17.706545486600703),\n",
       " (23.600000000000001, 29.083191466945799),\n",
       " (21.100000000000001, 22.235829427550339),\n",
       " (10.199999999999999, 5.9525560513131595),\n",
       " (14.199999999999999, 17.6687759578734),\n",
       " (17.5, 16.773171226289858),\n",
       " (23.5, 30.061013733714283),\n",
       " (19.899999999999999, 18.608595417919034),\n",
       " (24.399999999999999, 23.868435378326392),\n",
       " (24.800000000000001, 26.882180077078559),\n",
       " (14.800000000000001, 14.934788718489196),\n",
       " (17.300000000000001, 16.502012667390641),\n",
       " (14.4, 9.2216270661094093),\n",
       " (23.899999999999999, 26.894640599127818),\n",
       " (22.899999999999999, 22.973096683322577),\n",
       " (24.600000000000001, 29.063489499853326),\n",
       " (22.899999999999999, 28.792921951692765),\n",
       " (20.5, 19.506593439271395),\n",
       " (26.600000000000001, 27.977904385920095),\n",
       " (22.899999999999999, 24.882274035089353),\n",
       " (23.100000000000001, 25.133381765619593),\n",
       " (28.0, 28.541204802432045),\n",
       " (45.399999999999999, 39.176167748153361),\n",
       " (29.399999999999999, 31.013607133852126),\n",
       " (34.899999999999999, 34.238765756802934),\n",
       " (13.4, 16.698829680555015),\n",
       " (13.6, 14.399295738190094),\n",
       " (16.699999999999999, 19.366661976968189),\n",
       " (17.0, 22.758880627890385),\n",
       " (7.2000000000000002, 7.8221763652800398),\n",
       " (22.600000000000001, 27.383690821230058),\n",
       " (22.199999999999999, 24.029851748838531),\n",
       " (13.9, 13.357201264385237),\n",
       " (21.699999999999999, 20.994045032823514),\n",
       " (13.1, 13.936240751063547),\n",
       " (18.199999999999999, 13.829494077919509),\n",
       " (23.800000000000001, 25.63726926389559),\n",
       " (19.800000000000001, 18.454999579149842),\n",
       " (36.5, 36.241988159043686),\n",
       " (20.600000000000001, 18.906762174373789),\n",
       " (27.5, 12.150942406508609),\n",
       " (16.5, 11.727905692358505),\n",
       " (21.399999999999999, 19.96583693669859),\n",
       " (34.700000000000003, 30.998108285421303),\n",
       " (30.100000000000001, 29.627058189870347),\n",
       " (20.0, 16.563460023514732),\n",
       " (16.199999999999999, 20.367343090928259),\n",
       " (19.800000000000001, 22.828454859441049),\n",
       " (25.0, 24.62662557667727),\n",
       " (16.5, 22.812409897834339),\n",
       " (17.800000000000001, 22.797829157815702),\n",
       " (25.0, 22.202616131410775),\n",
       " (21.0, 21.556564739441217),\n",
       " (12.1, 18.137191556369601),\n",
       " (7.5, 13.879780780294773),\n",
       " (19.899999999999999, 19.246220396983027),\n",
       " (22.5, 17.874269612225245),\n",
       " (15.6, 13.460281637420998),\n",
       " (44.799999999999997, 39.043857933436023),\n",
       " (22.699999999999999, 24.712626226377068),\n",
       " (15.300000000000001, 19.824687227668477),\n",
       " (22.399999999999999, 24.009701169113171),\n",
       " (14.6, 8.9915470634721419),\n",
       " (23.100000000000001, 24.903825839216022),\n",
       " (23.699999999999999, 27.407760601037687),\n",
       " (19.699999999999999, 21.20526173338892),\n",
       " (20.800000000000001, 17.211571818004249),\n",
       " (24.800000000000001, 25.028676777531935),\n",
       " (11.800000000000001, 13.241086746499398),\n",
       " (29.800000000000001, 25.477835281164346),\n",
       " (15.0, 14.943423052267161),\n",
       " (28.699999999999999, 31.363811612073295),\n",
       " (20.800000000000001, 23.480915986734139),\n",
       " (21.199999999999999, 22.998240806146278),\n",
       " (19.100000000000001, 16.623040915601518),\n",
       " (21.600000000000001, 25.10492277087965),\n",
       " (11.699999999999999, 15.787603749193593),\n",
       " (19.300000000000001, 16.760983826521684),\n",
       " (20.399999999999999, 20.890505964730689),\n",
       " (25.199999999999999, 27.274963967105769),\n",
       " (21.899999999999999, 23.717434626935685),\n",
       " (16.300000000000001, 11.168658204620542),\n",
       " (27.899999999999999, 31.526704793543136),\n",
       " (20.0, 18.091488507135335),\n",
       " (36.0, 36.896769557892235),\n",
       " (34.899999999999999, 30.296141339930749),\n",
       " (20.0, 20.537695264478849),\n",
       " (26.699999999999999, 33.051979840116736),\n",
       " (23.199999999999999, 22.032442289516073),\n",
       " (5.0, 8.5798337983540467),\n",
       " (32.5, 30.832298559104316),\n",
       " (12.300000000000001, 12.589109863239958),\n",
       " (37.0, 31.140613805208076),\n",
       " (15.1, 16.573620260766951),\n",
       " (36.200000000000003, 28.388075779447473),\n",
       " (21.199999999999999, 23.591334775395616),\n",
       " (17.100000000000001, 17.234163488769305),\n",
       " (32.899999999999999, 30.945939756982504),\n",
       " (23.199999999999999, 16.993004683132487),\n",
       " (24.5, 27.3904837047996),\n",
       " (18.0, 19.366673720269436),\n",
       " (20.0, 23.022457947212118)]"
      ]
     },
     "execution_count": 22,
     "metadata": {},
     "output_type": "execute_result"
    }
   ],
   "source": [
    "zip (y_test, clf.predict(X_test))"
   ]
  },
  {
   "cell_type": "markdown",
   "metadata": {},
   "source": [
    "r2 is the r-sqaured score function that scores the accuracy of a regression. The parameters it takes are y_true, y_pred, and sample_weight. All we will need are results from zip(y_test, clf.predict(X_test)) to run r2 to see how the linear regression performed."
   ]
  },
  {
   "cell_type": "code",
   "execution_count": 23,
   "metadata": {
    "collapsed": false
   },
   "outputs": [
    {
     "data": {
      "text/plain": [
       "0.73184372885394744"
      ]
     },
     "execution_count": 23,
     "metadata": {},
     "output_type": "execute_result"
    }
   ],
   "source": [
    "r2_score(y_test, clf.predict(X_test))"
   ]
  },
  {
   "cell_type": "code",
   "execution_count": 19,
   "metadata": {
    "collapsed": false
   },
   "outputs": [
    {
     "data": {
      "text/plain": [
       "4.583909221172794"
      ]
     },
     "execution_count": 19,
     "metadata": {},
     "output_type": "execute_result"
    }
   ],
   "source": [
    "math.sqrt(mean_squared_error(y_test, clf.predict(X_test)))"
   ]
  },
  {
   "cell_type": "markdown",
   "metadata": {
    "collapsed": true
   },
   "source": [
    "The R-squared score is 0.732 which is not too bad!  House cost estimation does not need to be precise considering that a final price is always negotiated.  A ballpark number is all that is needed. The root mean squared error is 4.58."
   ]
  },
  {
   "cell_type": "code",
   "execution_count": 24,
   "metadata": {
    "collapsed": false
   },
   "outputs": [
    {
     "data": {
      "text/plain": [
       "array([-0.8105614 ,  0.93334006,  0.06284285,  0.6253368 , -1.87563712,\n",
       "        3.06195251, -0.17073159, -3.09544965,  2.06377857, -1.80216947,\n",
       "       -2.06302984,  0.80723566, -3.47400453])"
      ]
     },
     "execution_count": 24,
     "metadata": {},
     "output_type": "execute_result"
    }
   ],
   "source": [
    "clf.coef_"
   ]
  },
  {
   "cell_type": "markdown",
   "metadata": {},
   "source": [
    "Just looking at the coefficients. "
   ]
  },
  {
   "cell_type": "markdown",
   "metadata": {},
   "source": [
    "Ridge Regression as defined in the scikit-learn.org site: Ridge regression addresses some of the problems of ordinary least squares by imposing a penalty on the size of coefficients.  the ridge coefficients minimize a penalized residual sum of squares. \n",
    "\n",
    "The site continues by saying that this model solves a regression model where the loss function is the linear least squares function and regularization is given by the l2-norm.  Also known as Ridge Regression or Tikhonov regularization.  Regularization (by wikipedia) refers to a process of introducing additional information in order to solve an ill-posed problem or to prevent overfitting. Regularizing the coefficients is just changing alpha or how much our coefficients are going to change. "
   ]
  },
  {
   "cell_type": "code",
   "execution_count": 31,
   "metadata": {
    "collapsed": false
   },
   "outputs": [
    {
     "data": {
      "text/plain": [
       "Ridge(alpha=1.0, copy_X=True, fit_intercept=True, max_iter=None,\n",
       "   normalize=False, solver='auto', tol=0.001)"
      ]
     },
     "execution_count": 31,
     "metadata": {},
     "output_type": "execute_result"
    }
   ],
   "source": [
    "clfRidge = Ridge()\n",
    "clfRidge.fit(X_train, y_train)"
   ]
  },
  {
   "cell_type": "code",
   "execution_count": 32,
   "metadata": {
    "collapsed": false
   },
   "outputs": [
    {
     "data": {
      "text/plain": [
       "0.73113736785921202"
      ]
     },
     "execution_count": 32,
     "metadata": {},
     "output_type": "execute_result"
    }
   ],
   "source": [
    "r2_score(y_test, clfRidge.predict(X_test))"
   ]
  },
  {
   "cell_type": "code",
   "execution_count": 33,
   "metadata": {
    "collapsed": false
   },
   "outputs": [
    {
     "data": {
      "text/plain": [
       "4.145111836744919"
      ]
     },
     "execution_count": 33,
     "metadata": {},
     "output_type": "execute_result"
    }
   ],
   "source": [
    "math.sqrt(mean_squared_error(y_test, clfRidge.predict(X_test)))"
   ]
  },
  {
   "cell_type": "markdown",
   "metadata": {},
   "source": [
    "It looks like with an alpha of 1.0 (default) our Ridge linear regression does not appear to perform any better than the original ordinary least square regression.  The values very closely match so let's change the regularization parameter. I'll divide it in ha"
   ]
  },
  {
   "cell_type": "code",
   "execution_count": 56,
   "metadata": {
    "collapsed": false
   },
   "outputs": [
    {
     "data": {
      "text/plain": [
       "Ridge(alpha=0.1, copy_X=True, fit_intercept=True, max_iter=None,\n",
       "   normalize=False, solver='auto', tol=0.001)"
      ]
     },
     "execution_count": 56,
     "metadata": {},
     "output_type": "execute_result"
    }
   ],
   "source": [
    "clfRidge = Ridge(alpha = 0.1)\n",
    "clfRidge.fit(X_train, y_train)"
   ]
  },
  {
   "cell_type": "code",
   "execution_count": 57,
   "metadata": {
    "collapsed": false
   },
   "outputs": [
    {
     "data": {
      "text/plain": [
       "0.73177258255384947"
      ]
     },
     "execution_count": 57,
     "metadata": {},
     "output_type": "execute_result"
    }
   ],
   "source": [
    "clfRidge.score(X_test, y_test) #another way to calculate rsquared!"
   ]
  },
  {
   "cell_type": "code",
   "execution_count": 58,
   "metadata": {
    "collapsed": false
   },
   "outputs": [
    {
     "data": {
      "text/plain": [
       "4.140212321756897"
      ]
     },
     "execution_count": 58,
     "metadata": {},
     "output_type": "execute_result"
    }
   ],
   "source": [
    "math.sqrt(mean_squared_error(y_test, clfRidge.predict(X_test)))"
   ]
  },
  {
   "cell_type": "code",
   "execution_count": 69,
   "metadata": {
    "collapsed": false
   },
   "outputs": [
    {
     "data": {
      "text/plain": [
       "Ridge(alpha=0.01, copy_X=True, fit_intercept=True, max_iter=None,\n",
       "   normalize=False, solver='auto', tol=0.001)"
      ]
     },
     "execution_count": 69,
     "metadata": {},
     "output_type": "execute_result"
    }
   ],
   "source": [
    "clfRidge = Ridge(alpha = 0.01)\n",
    "clfRidge.fit(X_train, y_train)"
   ]
  },
  {
   "cell_type": "code",
   "execution_count": 60,
   "metadata": {
    "collapsed": false
   },
   "outputs": [
    {
     "data": {
      "text/plain": [
       "0.73183660939164619"
      ]
     },
     "execution_count": 60,
     "metadata": {},
     "output_type": "execute_result"
    }
   ],
   "source": [
    "clfRidge.score(X_test, y_test)"
   ]
  },
  {
   "cell_type": "code",
   "execution_count": 61,
   "metadata": {
    "collapsed": false
   },
   "outputs": [
    {
     "data": {
      "text/plain": [
       "4.139718150567489"
      ]
     },
     "execution_count": 61,
     "metadata": {},
     "output_type": "execute_result"
    }
   ],
   "source": [
    "math.sqrt(mean_squared_error(y_test, clfRidge.predict(X_test)))"
   ]
  },
  {
   "cell_type": "code",
   "execution_count": 74,
   "metadata": {
    "collapsed": false
   },
   "outputs": [
    {
     "data": {
      "text/plain": [
       "Ridge(alpha=10, copy_X=True, fit_intercept=True, max_iter=None,\n",
       "   normalize=False, solver='auto', tol=0.001)"
      ]
     },
     "execution_count": 74,
     "metadata": {},
     "output_type": "execute_result"
    }
   ],
   "source": [
    "clfRidge = Ridge(alpha = 10)\n",
    "clfRidge.fit(X_train, y_train)"
   ]
  },
  {
   "cell_type": "code",
   "execution_count": 75,
   "metadata": {
    "collapsed": false
   },
   "outputs": [
    {
     "data": {
      "text/plain": [
       "0.72538511192273902"
      ]
     },
     "execution_count": 75,
     "metadata": {},
     "output_type": "execute_result"
    }
   ],
   "source": [
    "clfRidge.score(X_test, y_test)"
   ]
  },
  {
   "cell_type": "code",
   "execution_count": 76,
   "metadata": {
    "collapsed": false
   },
   "outputs": [
    {
     "data": {
      "text/plain": [
       "0.69406703511719203"
      ]
     },
     "execution_count": 76,
     "metadata": {},
     "output_type": "execute_result"
    }
   ],
   "source": [
    "clfRidge = Ridge(alpha = 100)\n",
    "clfRidge.fit(X_train, y_train)\n",
    "clfRidge.score(X_test, y_test)"
   ]
  },
  {
   "cell_type": "markdown",
   "metadata": {},
   "source": [
    "Changing our alpha has not made a significant change in our r squared.  It looks like as we approach a smaller and smaller alpha we are converging but as we approach a larger alpha our regression algorithm gets worse and worse.  Let's try the Lasso method now and see what kinds of results we can get! Lasso stands for least absolute shrinkage and selection operator.  This"
   ]
  },
  {
   "cell_type": "code",
   "execution_count": 79,
   "metadata": {
    "collapsed": false
   },
   "outputs": [
    {
     "data": {
      "text/plain": [
       "Lasso(alpha=1.0, copy_X=True, fit_intercept=True, max_iter=1000,\n",
       "   normalize=False, positive=False, precompute=False, random_state=None,\n",
       "   selection='cyclic', tol=0.0001, warm_start=False)"
      ]
     },
     "execution_count": 79,
     "metadata": {},
     "output_type": "execute_result"
    }
   ],
   "source": [
    "clfLasso = Lasso()\n",
    "clfLasso.fit(X_train, y_train)"
   ]
  },
  {
   "cell_type": "code",
   "execution_count": 80,
   "metadata": {
    "collapsed": false
   },
   "outputs": [
    {
     "data": {
      "text/plain": [
       "0.64901939271161391"
      ]
     },
     "execution_count": 80,
     "metadata": {},
     "output_type": "execute_result"
    }
   ],
   "source": [
    "clfLasso.score(X_test, y_test)"
   ]
  },
  {
   "cell_type": "code",
   "execution_count": 81,
   "metadata": {
    "collapsed": false
   },
   "outputs": [
    {
     "data": {
      "text/plain": [
       "4.736009774142978"
      ]
     },
     "execution_count": 81,
     "metadata": {},
     "output_type": "execute_result"
    }
   ],
   "source": [
    "math.sqrt(mean_squared_error(y_test, clfLasso.predict(X_test)))"
   ]
  },
  {
   "cell_type": "markdown",
   "metadata": {},
   "source": [
    "I hope that Lasso and Ridge were not supposed to be better models for this particular problem. Compared to our very first set of results, they do not appear to be more effective. Let's try some other regularizers. "
   ]
  },
  {
   "cell_type": "code",
   "execution_count": 82,
   "metadata": {
    "collapsed": false
   },
   "outputs": [
    {
     "data": {
      "text/plain": [
       "Lasso(alpha=0.1, copy_X=True, fit_intercept=True, max_iter=1000,\n",
       "   normalize=False, positive=False, precompute=False, random_state=None,\n",
       "   selection='cyclic', tol=0.0001, warm_start=False)"
      ]
     },
     "execution_count": 82,
     "metadata": {},
     "output_type": "execute_result"
    }
   ],
   "source": [
    "clfLasso = Lasso(alpha = 0.1)\n",
    "clfLasso.fit(X_train, y_train)"
   ]
  },
  {
   "cell_type": "code",
   "execution_count": 83,
   "metadata": {
    "collapsed": false
   },
   "outputs": [
    {
     "data": {
      "text/plain": [
       "0.71136423983232944"
      ]
     },
     "execution_count": 83,
     "metadata": {},
     "output_type": "execute_result"
    }
   ],
   "source": [
    "clfLasso.score(X_test, y_test)"
   ]
  },
  {
   "cell_type": "code",
   "execution_count": 84,
   "metadata": {
    "collapsed": false
   },
   "outputs": [
    {
     "data": {
      "text/plain": [
       "4.2948311831899515"
      ]
     },
     "execution_count": 84,
     "metadata": {},
     "output_type": "execute_result"
    }
   ],
   "source": [
    "math.sqrt(mean_squared_error(y_test, clfLasso.predict(X_test)))"
   ]
  },
  {
   "cell_type": "code",
   "execution_count": 85,
   "metadata": {
    "collapsed": false
   },
   "outputs": [
    {
     "data": {
      "text/plain": [
       "Lasso(alpha=0.01, copy_X=True, fit_intercept=True, max_iter=1000,\n",
       "   normalize=False, positive=False, precompute=False, random_state=None,\n",
       "   selection='cyclic', tol=0.0001, warm_start=False)"
      ]
     },
     "execution_count": 85,
     "metadata": {},
     "output_type": "execute_result"
    }
   ],
   "source": [
    "clfLasso = Lasso(alpha = 0.01)\n",
    "clfLasso.fit(X_train, y_train)"
   ]
  },
  {
   "cell_type": "code",
   "execution_count": 86,
   "metadata": {
    "collapsed": false
   },
   "outputs": [
    {
     "data": {
      "text/plain": [
       "0.73033478152108788"
      ]
     },
     "execution_count": 86,
     "metadata": {},
     "output_type": "execute_result"
    }
   ],
   "source": [
    "clfLasso.score(X_test, y_test)"
   ]
  },
  {
   "cell_type": "code",
   "execution_count": 87,
   "metadata": {
    "collapsed": false
   },
   "outputs": [
    {
     "data": {
      "text/plain": [
       "4.1512940478489355"
      ]
     },
     "execution_count": 87,
     "metadata": {},
     "output_type": "execute_result"
    }
   ],
   "source": [
    "math.sqrt(mean_squared_error(y_test, clfLasso.predict(X_test)))"
   ]
  },
  {
   "cell_type": "code",
   "execution_count": 93,
   "metadata": {
    "collapsed": false
   },
   "outputs": [
    {
     "data": {
      "text/plain": [
       "Lasso(alpha=0.001, copy_X=True, fit_intercept=True, max_iter=1000,\n",
       "   normalize=False, positive=False, precompute=False, random_state=None,\n",
       "   selection='cyclic', tol=0.0001, warm_start=False)"
      ]
     },
     "execution_count": 93,
     "metadata": {},
     "output_type": "execute_result"
    }
   ],
   "source": [
    "clfLasso = Lasso(alpha = 0.001)\n",
    "clfLasso.fit(X_train, y_train)"
   ]
  },
  {
   "cell_type": "code",
   "execution_count": 94,
   "metadata": {
    "collapsed": false
   },
   "outputs": [
    {
     "data": {
      "text/plain": [
       "0.73169374704770207"
      ]
     },
     "execution_count": 94,
     "metadata": {},
     "output_type": "execute_result"
    }
   ],
   "source": [
    "clfLasso.score(X_test, y_test)"
   ]
  },
  {
   "cell_type": "code",
   "execution_count": 95,
   "metadata": {
    "collapsed": false
   },
   "outputs": [
    {
     "data": {
      "text/plain": [
       "4.14082070802403"
      ]
     },
     "execution_count": 95,
     "metadata": {},
     "output_type": "execute_result"
    }
   ],
   "source": [
    "math.sqrt(mean_squared_error(y_test, clfLasso.predict(X_test)))"
   ]
  },
  {
   "cell_type": "markdown",
   "metadata": {},
   "source": [
    "Lasso appear to have been greatly impacted by changes in the regularizer.  It does appear that we have been able to get an r squared score better than the 0.73184 from our original linear regression. "
   ]
  },
  {
   "cell_type": "code",
   "execution_count": null,
   "metadata": {
    "collapsed": true
   },
   "outputs": [],
   "source": []
  }
 ],
 "metadata": {
  "kernelspec": {
   "display_name": "Python 2",
   "language": "python",
   "name": "python2"
  },
  "language_info": {
   "codemirror_mode": {
    "name": "ipython",
    "version": 2
   },
   "file_extension": ".py",
   "mimetype": "text/x-python",
   "name": "python",
   "nbconvert_exporter": "python",
   "pygments_lexer": "ipython2",
   "version": "2.7.10"
  }
 },
 "nbformat": 4,
 "nbformat_minor": 0
}
